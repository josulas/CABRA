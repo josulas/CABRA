{
 "cells": [
  {
   "cell_type": "markdown",
   "metadata": {},
   "source": [
    "## Sound Callibration"
   ]
  },
  {
   "cell_type": "code",
   "execution_count": 3,
   "metadata": {},
   "outputs": [],
   "source": [
    "from clicker import Clicker, EarSelect\n",
    "from ipywidgets import IntSlider\n",
    "MIN_NDB0VALF0 = 205\n",
    "MAX_NDB0VALF0 = 580"
   ]
  },
  {
   "cell_type": "code",
   "execution_count": 8,
   "metadata": {},
   "outputs": [
    {
     "data": {
      "application/vnd.jupyter.widget-view+json": {
       "model_id": "877d16812dc2458eabe2e0ab53200694",
       "version_major": 2,
       "version_minor": 0
      },
      "text/plain": [
       "IntSlider(value=205, max=580, min=205)"
      ]
     },
     "execution_count": 8,
     "metadata": {},
     "output_type": "execute_result"
    }
   ],
   "source": [
    "slider = IntSlider(min=MIN_NDB0VALF0, max=MAX_NDB0VALF0, step=1, value=MIN_NDB0VALF0)\n",
    "slider"
   ]
  },
  {
   "cell_type": "code",
   "execution_count": null,
   "metadata": {},
   "outputs": [],
   "source": [
    "for freq in [250, 500, 1000, 2000, 4000, 8000]:\n",
    "    clicker = Clicker(freq=freq, nclicks=100, ear=EarSelect.BOTH, dbamp=0, ndB0val=slider.value)\n",
    "    clicker.playToneBurst(wait=True)"
   ]
  }
 ],
 "metadata": {
  "kernelspec": {
   "display_name": "cabravenv",
   "language": "python",
   "name": "python3"
  },
  "language_info": {
   "codemirror_mode": {
    "name": "ipython",
    "version": 3
   },
   "file_extension": ".py",
   "mimetype": "text/x-python",
   "name": "python",
   "nbconvert_exporter": "python",
   "pygments_lexer": "ipython3",
   "version": "3.11.9"
  }
 },
 "nbformat": 4,
 "nbformat_minor": 2
}
